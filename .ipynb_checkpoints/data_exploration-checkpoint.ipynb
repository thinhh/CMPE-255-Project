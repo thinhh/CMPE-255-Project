{
 "cells": [
  {
   "cell_type": "code",
   "execution_count": 47,
   "id": "a7a17e13-8e66-4993-a231-ce45ac9480f9",
   "metadata": {},
   "outputs": [
    {
     "name": "stdout",
     "output_type": "stream",
     "text": [
      "Requirement already satisfied: pandas in c:\\users\\thinh\\appdata\\local\\programs\\python\\python312\\lib\\site-packages (2.2.0)\n",
      "Requirement already satisfied: numpy<2,>=1.26.0 in c:\\users\\thinh\\appdata\\local\\programs\\python\\python312\\lib\\site-packages (from pandas) (1.26.4)\n",
      "Requirement already satisfied: python-dateutil>=2.8.2 in c:\\users\\thinh\\appdata\\local\\programs\\python\\python312\\lib\\site-packages (from pandas) (2.8.2)\n",
      "Requirement already satisfied: pytz>=2020.1 in c:\\users\\thinh\\appdata\\local\\programs\\python\\python312\\lib\\site-packages (from pandas) (2024.1)\n",
      "Requirement already satisfied: tzdata>=2022.7 in c:\\users\\thinh\\appdata\\local\\programs\\python\\python312\\lib\\site-packages (from pandas) (2024.1)\n",
      "Requirement already satisfied: six>=1.5 in c:\\users\\thinh\\appdata\\local\\programs\\python\\python312\\lib\\site-packages (from python-dateutil>=2.8.2->pandas) (1.16.0)\n",
      "Requirement already satisfied: seaborn in c:\\users\\thinh\\appdata\\local\\programs\\python\\python312\\lib\\site-packages (0.13.2)\n",
      "Requirement already satisfied: numpy!=1.24.0,>=1.20 in c:\\users\\thinh\\appdata\\local\\programs\\python\\python312\\lib\\site-packages (from seaborn) (1.26.4)\n",
      "Requirement already satisfied: pandas>=1.2 in c:\\users\\thinh\\appdata\\local\\programs\\python\\python312\\lib\\site-packages (from seaborn) (2.2.0)\n",
      "Requirement already satisfied: matplotlib!=3.6.1,>=3.4 in c:\\users\\thinh\\appdata\\local\\programs\\python\\python312\\lib\\site-packages (from seaborn) (3.8.2)\n",
      "Requirement already satisfied: contourpy>=1.0.1 in c:\\users\\thinh\\appdata\\local\\programs\\python\\python312\\lib\\site-packages (from matplotlib!=3.6.1,>=3.4->seaborn) (1.2.0)\n",
      "Requirement already satisfied: cycler>=0.10 in c:\\users\\thinh\\appdata\\local\\programs\\python\\python312\\lib\\site-packages (from matplotlib!=3.6.1,>=3.4->seaborn) (0.12.1)\n",
      "Requirement already satisfied: fonttools>=4.22.0 in c:\\users\\thinh\\appdata\\local\\programs\\python\\python312\\lib\\site-packages (from matplotlib!=3.6.1,>=3.4->seaborn) (4.48.1)\n",
      "Requirement already satisfied: kiwisolver>=1.3.1 in c:\\users\\thinh\\appdata\\local\\programs\\python\\python312\\lib\\site-packages (from matplotlib!=3.6.1,>=3.4->seaborn) (1.4.5)\n",
      "Requirement already satisfied: packaging>=20.0 in c:\\users\\thinh\\appdata\\local\\programs\\python\\python312\\lib\\site-packages (from matplotlib!=3.6.1,>=3.4->seaborn) (23.2)\n",
      "Requirement already satisfied: pillow>=8 in c:\\users\\thinh\\appdata\\local\\programs\\python\\python312\\lib\\site-packages (from matplotlib!=3.6.1,>=3.4->seaborn) (10.2.0)\n",
      "Requirement already satisfied: pyparsing>=2.3.1 in c:\\users\\thinh\\appdata\\local\\programs\\python\\python312\\lib\\site-packages (from matplotlib!=3.6.1,>=3.4->seaborn) (3.1.1)\n",
      "Requirement already satisfied: python-dateutil>=2.7 in c:\\users\\thinh\\appdata\\local\\programs\\python\\python312\\lib\\site-packages (from matplotlib!=3.6.1,>=3.4->seaborn) (2.8.2)\n",
      "Requirement already satisfied: pytz>=2020.1 in c:\\users\\thinh\\appdata\\local\\programs\\python\\python312\\lib\\site-packages (from pandas>=1.2->seaborn) (2024.1)\n",
      "Requirement already satisfied: tzdata>=2022.7 in c:\\users\\thinh\\appdata\\local\\programs\\python\\python312\\lib\\site-packages (from pandas>=1.2->seaborn) (2024.1)\n",
      "Requirement already satisfied: six>=1.5 in c:\\users\\thinh\\appdata\\local\\programs\\python\\python312\\lib\\site-packages (from python-dateutil>=2.7->matplotlib!=3.6.1,>=3.4->seaborn) (1.16.0)\n"
     ]
    }
   ],
   "source": [
    "!pip install pandas\n",
    "!pip install seaborn"
   ]
  },
  {
   "cell_type": "code",
   "execution_count": 48,
   "id": "fdc38dd4-cd28-4e5c-87d6-1cfdbd9948de",
   "metadata": {},
   "outputs": [],
   "source": [
    "import numpy as np\n",
    "import pandas as pd\n",
    "from datetime import datetime\n",
    "import matplotlib.pyplot as plt\n",
    "from sklearn.preprocessing import OneHotEncoder\n",
    "from sklearn.preprocessing import LabelEncoder\n",
    "from sklearn.impute import SimpleImputer\n",
    "import seaborn as sns"
   ]
  },
  {
   "cell_type": "code",
   "execution_count": 49,
   "id": "b7864f87-272c-4145-baaa-8150b0f940f9",
   "metadata": {},
   "outputs": [
    {
     "name": "stdout",
     "output_type": "stream",
     "text": [
      "<class 'pandas.core.frame.DataFrame'>\n",
      "RangeIndex: 152727 entries, 0 to 152726\n",
      "Data columns (total 9 columns):\n",
      " #   Column       Non-Null Count   Dtype \n",
      "---  ------       --------------   ----- \n",
      " 0   CrimeType    149889 non-null  object\n",
      " 1   DateTime     152727 non-null  object\n",
      " 2   CaseNumber   152727 non-null  object\n",
      " 3   Description  152727 non-null  object\n",
      " 4   PoliceBeat   152196 non-null  object\n",
      " 5   Address      152677 non-null  object\n",
      " 6   City         152727 non-null  object\n",
      " 7   State        152727 non-null  object\n",
      " 8   Location     152726 non-null  object\n",
      "dtypes: object(9)\n",
      "memory usage: 10.5+ MB\n"
     ]
    }
   ],
   "source": [
    "### Loading the Dataset\n",
    "df=pd.read_csv('./data/Oakland_Auto_Theft.csv')\n",
    "df.head(10)\n",
    "df.info()"
   ]
  },
  {
   "cell_type": "code",
   "execution_count": 50,
   "id": "3325048e-a7d4-45ce-8031-28070b7e58f1",
   "metadata": {},
   "outputs": [
    {
     "data": {
      "text/plain": [
       "array(['31Y', '06X', '16Y', '32Y', '07X', '27Y', '10Y', '31Z', '01X',\n",
       "       '15X', '23X', '08X', '12X', '29X', '02Y', '34X', '77X', '05X',\n",
       "       '14X', '32X', '33X', '10X', '27X', '26X', '24Y', '03Y', '35Y',\n",
       "       '21Y', '14Y', '13Z', '35X', '18Y', '17X', '26Y', '13Y', '19X',\n",
       "       '22Y', '25X', '02X', '30X', '20X', '30Y', '03X', '99X', '22X',\n",
       "       '24X', '21X', '11X', '25Y', '05Y', '04X', '31X', '17Y', '13X',\n",
       "       '12Y', '09X', '33Y', '28X', '16X', '18X', '35', '327', '32', 'PCW',\n",
       "       '4', '5', '28', 'PDT2', nan, '17 Y', '6X', '02 X', '1', '94603',\n",
       "       '3X', '2Y', '7X', '30 X', '8X', '17', '9X', '27 Y', '29', '1X',\n",
       "       '4X', '3Y', '7', '06 X', '31 Z', '04Y', '1Y', '0', '22', '2X', 'X',\n",
       "       '34Y', '5Y', '88X', 'P3', '30', '07', '34', '27', '21', '26', '08',\n",
       "       '33', '24', '10', '12', '31', '20', '18', '03', '25', '5X', '16',\n",
       "       '04', '02', '06', '09', '05', '19', '01', '8', '11', '23', '6',\n",
       "       '13', '14', '9', '15', 'CCD2'], dtype=object)"
      ]
     },
     "execution_count": 50,
     "metadata": {},
     "output_type": "execute_result"
    }
   ],
   "source": [
    "### Police Beat Unique values\n",
    "df['PoliceBeat'].unique()"
   ]
  },
  {
   "cell_type": "code",
   "execution_count": 51,
   "id": "5fa0b54e-b79e-4d6e-9462-358946624346",
   "metadata": {},
   "outputs": [
    {
     "name": "stderr",
     "output_type": "stream",
     "text": [
      "C:\\Windows\\Temp\\ipykernel_21980\\3175685190.py:2: UserWarning: Could not infer format, so each element will be parsed individually, falling back to `dateutil`. To ensure parsing is consistent and as-expected, please specify a format.\n",
      "  df['DateTime'] = pd.to_datetime(df['DateTime'])\n"
     ]
    }
   ],
   "source": [
    "### Convert string DateTime to DateTime type object\n",
    "df['DateTime'] = pd.to_datetime(df['DateTime'])"
   ]
  },
  {
   "cell_type": "code",
   "execution_count": 52,
   "id": "541ae0a8-2ea0-4048-98a2-8af1cc5ab414",
   "metadata": {},
   "outputs": [],
   "source": [
    "\n",
    "### Split Day, Month, Year, Hour in DateTime object\n",
    "df['Day'] = df['DateTime'].dt.day\n",
    "df['Month']= df['DateTime'].dt.month\n",
    "df['Year']= df['DateTime'].dt.year\n",
    "df['Hour']= df['DateTime'].dt.hour\n",
    "df['DayOfWeek']= df['DateTime'].dt.weekday\n",
    "df[\"DayOfWeekName\"]= df['DateTime'].dt.strftime('%A')"
   ]
  },
  {
   "cell_type": "code",
   "execution_count": 53,
   "id": "057c2b83-bfa3-4a75-adb7-149d613308d2",
   "metadata": {},
   "outputs": [
    {
     "name": "stdout",
     "output_type": "stream",
     "text": [
      "<class 'pandas.core.frame.DataFrame'>\n",
      "RangeIndex: 152727 entries, 0 to 152726\n",
      "Data columns (total 10 columns):\n",
      " #   Column         Non-Null Count   Dtype \n",
      "---  ------         --------------   ----- \n",
      " 0   CrimeType      149889 non-null  object\n",
      " 1   PoliceBeat     152196 non-null  object\n",
      " 2   Address        152677 non-null  object\n",
      " 3   Location       152726 non-null  object\n",
      " 4   Day            152727 non-null  int32 \n",
      " 5   Month          152727 non-null  int32 \n",
      " 6   Year           152727 non-null  int32 \n",
      " 7   Hour           152727 non-null  int32 \n",
      " 8   DayOfWeek      152727 non-null  int32 \n",
      " 9   DayOfWeekName  152727 non-null  object\n",
      "dtypes: int32(5), object(5)\n",
      "memory usage: 8.7+ MB\n"
     ]
    }
   ],
   "source": [
    "### Dropping non-important features\n",
    "df.drop(['CaseNumber', 'DateTime', 'Description', 'City', 'State'], axis=1, inplace=True)\n",
    "df.info()"
   ]
  },
  {
   "cell_type": "code",
   "execution_count": 54,
   "id": "8f09e8cd-f93f-4ea6-a079-34e17705b8bc",
   "metadata": {},
   "outputs": [
    {
     "data": {
      "text/html": [
       "<div>\n",
       "<style scoped>\n",
       "    .dataframe tbody tr th:only-of-type {\n",
       "        vertical-align: middle;\n",
       "    }\n",
       "\n",
       "    .dataframe tbody tr th {\n",
       "        vertical-align: top;\n",
       "    }\n",
       "\n",
       "    .dataframe thead th {\n",
       "        text-align: right;\n",
       "    }\n",
       "</style>\n",
       "<table border=\"1\" class=\"dataframe\">\n",
       "  <thead>\n",
       "    <tr style=\"text-align: right;\">\n",
       "      <th></th>\n",
       "      <th>CrimeType</th>\n",
       "      <th>PoliceBeat</th>\n",
       "      <th>Address</th>\n",
       "      <th>Location</th>\n",
       "      <th>Day</th>\n",
       "      <th>Month</th>\n",
       "      <th>Year</th>\n",
       "      <th>Hour</th>\n",
       "      <th>DayOfWeek</th>\n",
       "      <th>DayOfWeekName</th>\n",
       "    </tr>\n",
       "  </thead>\n",
       "  <tbody>\n",
       "    <tr>\n",
       "      <th>0</th>\n",
       "      <td>TOWED VEHICLE</td>\n",
       "      <td>31Y</td>\n",
       "      <td>9609 MADDUX DR</td>\n",
       "      <td>POINT (-122.186243032 37.736909007)</td>\n",
       "      <td>30</td>\n",
       "      <td>9</td>\n",
       "      <td>2022</td>\n",
       "      <td>23</td>\n",
       "      <td>4</td>\n",
       "      <td>Friday</td>\n",
       "    </tr>\n",
       "    <tr>\n",
       "      <th>1</th>\n",
       "      <td>ROBBERY</td>\n",
       "      <td>06X</td>\n",
       "      <td>2420 SAN PABLO AV</td>\n",
       "      <td>POINT (-122.274354017 37.81511099)</td>\n",
       "      <td>5</td>\n",
       "      <td>10</td>\n",
       "      <td>2022</td>\n",
       "      <td>3</td>\n",
       "      <td>2</td>\n",
       "      <td>Wednesday</td>\n",
       "    </tr>\n",
       "    <tr>\n",
       "      <th>2</th>\n",
       "      <td>STOLEN VEHICLE</td>\n",
       "      <td>16Y</td>\n",
       "      <td>1123 EL CENTRO AV</td>\n",
       "      <td>POINT (-122.219454982 37.810370982)</td>\n",
       "      <td>27</td>\n",
       "      <td>11</td>\n",
       "      <td>2013</td>\n",
       "      <td>11</td>\n",
       "      <td>2</td>\n",
       "      <td>Wednesday</td>\n",
       "    </tr>\n",
       "    <tr>\n",
       "      <th>3</th>\n",
       "      <td>OTHER</td>\n",
       "      <td>32Y</td>\n",
       "      <td>2374 108TH AV</td>\n",
       "      <td>POINT (-122.153223028 37.740880981)</td>\n",
       "      <td>19</td>\n",
       "      <td>12</td>\n",
       "      <td>2013</td>\n",
       "      <td>23</td>\n",
       "      <td>3</td>\n",
       "      <td>Thursday</td>\n",
       "    </tr>\n",
       "    <tr>\n",
       "      <th>4</th>\n",
       "      <td>STOLEN VEHICLE</td>\n",
       "      <td>07X</td>\n",
       "      <td>3129 SAN PABLO AV</td>\n",
       "      <td>POINT (-122.277448029 37.822463008)</td>\n",
       "      <td>28</td>\n",
       "      <td>1</td>\n",
       "      <td>2014</td>\n",
       "      <td>11</td>\n",
       "      <td>1</td>\n",
       "      <td>Tuesday</td>\n",
       "    </tr>\n",
       "  </tbody>\n",
       "</table>\n",
       "</div>"
      ],
      "text/plain": [
       "        CrimeType PoliceBeat            Address  \\\n",
       "0   TOWED VEHICLE        31Y     9609 MADDUX DR   \n",
       "1         ROBBERY        06X  2420 SAN PABLO AV   \n",
       "2  STOLEN VEHICLE        16Y  1123 EL CENTRO AV   \n",
       "3           OTHER        32Y      2374 108TH AV   \n",
       "4  STOLEN VEHICLE        07X  3129 SAN PABLO AV   \n",
       "\n",
       "                              Location  Day  Month  Year  Hour  DayOfWeek  \\\n",
       "0  POINT (-122.186243032 37.736909007)   30      9  2022    23          4   \n",
       "1   POINT (-122.274354017 37.81511099)    5     10  2022     3          2   \n",
       "2  POINT (-122.219454982 37.810370982)   27     11  2013    11          2   \n",
       "3  POINT (-122.153223028 37.740880981)   19     12  2013    23          3   \n",
       "4  POINT (-122.277448029 37.822463008)   28      1  2014    11          1   \n",
       "\n",
       "  DayOfWeekName  \n",
       "0        Friday  \n",
       "1     Wednesday  \n",
       "2     Wednesday  \n",
       "3      Thursday  \n",
       "4       Tuesday  "
      ]
     },
     "execution_count": 54,
     "metadata": {},
     "output_type": "execute_result"
    }
   ],
   "source": [
    "df.head(5)"
   ]
  },
  {
   "cell_type": "code",
   "execution_count": 55,
   "id": "baf0cfca-0ce4-4be3-841e-607b270f650c",
   "metadata": {},
   "outputs": [],
   "source": [
    "### Split the location to X, Y coordinates\n",
    "df[['Point','X', 'Y']] = df['Location'].str.split(' ', expand= True)"
   ]
  },
  {
   "cell_type": "code",
   "execution_count": 56,
   "id": "4bb59575-496d-43b2-bc89-0af9d3d973a9",
   "metadata": {},
   "outputs": [],
   "source": [
    "### Remove \"(\" \")\" from X and Y columns\n",
    "### Drop unnecessary 'Point' columns\n",
    "df['X']= df['X'].str.slice(1)\n",
    "df['Y'] = df['Y'].str.rstrip(')')\n",
    "df.drop('Point', axis = 1, inplace= True)"
   ]
  },
  {
   "cell_type": "code",
   "execution_count": 57,
   "id": "8a4823ae-4019-4d8e-b90f-cc3360bf7d06",
   "metadata": {},
   "outputs": [
    {
     "name": "stdout",
     "output_type": "stream",
     "text": [
      "<class 'pandas.core.frame.DataFrame'>\n",
      "RangeIndex: 152727 entries, 0 to 152726\n",
      "Data columns (total 12 columns):\n",
      " #   Column         Non-Null Count   Dtype \n",
      "---  ------         --------------   ----- \n",
      " 0   CrimeType      149889 non-null  object\n",
      " 1   PoliceBeat     152196 non-null  object\n",
      " 2   Address        152677 non-null  object\n",
      " 3   Location       152726 non-null  object\n",
      " 4   Day            152727 non-null  int32 \n",
      " 5   Month          152727 non-null  int32 \n",
      " 6   Year           152727 non-null  int32 \n",
      " 7   Hour           152727 non-null  int32 \n",
      " 8   DayOfWeek      152727 non-null  int32 \n",
      " 9   DayOfWeekName  152727 non-null  object\n",
      " 10  X              152726 non-null  object\n",
      " 11  Y              152726 non-null  object\n",
      "dtypes: int32(5), object(7)\n",
      "memory usage: 11.1+ MB\n"
     ]
    }
   ],
   "source": [
    "df.info()"
   ]
  },
  {
   "cell_type": "code",
   "execution_count": 58,
   "id": "08a01546-7679-4f64-b81c-452ab3608c9c",
   "metadata": {},
   "outputs": [
    {
     "data": {
      "text/html": [
       "<div>\n",
       "<style scoped>\n",
       "    .dataframe tbody tr th:only-of-type {\n",
       "        vertical-align: middle;\n",
       "    }\n",
       "\n",
       "    .dataframe tbody tr th {\n",
       "        vertical-align: top;\n",
       "    }\n",
       "\n",
       "    .dataframe thead th {\n",
       "        text-align: right;\n",
       "    }\n",
       "</style>\n",
       "<table border=\"1\" class=\"dataframe\">\n",
       "  <thead>\n",
       "    <tr style=\"text-align: right;\">\n",
       "      <th></th>\n",
       "      <th>CrimeType</th>\n",
       "      <th>PoliceBeat</th>\n",
       "      <th>Address</th>\n",
       "      <th>Location</th>\n",
       "      <th>Day</th>\n",
       "      <th>Month</th>\n",
       "      <th>Year</th>\n",
       "      <th>Hour</th>\n",
       "      <th>DayOfWeek</th>\n",
       "      <th>DayOfWeekName</th>\n",
       "      <th>X</th>\n",
       "      <th>Y</th>\n",
       "    </tr>\n",
       "  </thead>\n",
       "  <tbody>\n",
       "    <tr>\n",
       "      <th>0</th>\n",
       "      <td>TOWED VEHICLE</td>\n",
       "      <td>31Y</td>\n",
       "      <td>9609 MADDUX DR</td>\n",
       "      <td>POINT (-122.186243032 37.736909007)</td>\n",
       "      <td>30</td>\n",
       "      <td>9</td>\n",
       "      <td>2022</td>\n",
       "      <td>23</td>\n",
       "      <td>4</td>\n",
       "      <td>Friday</td>\n",
       "      <td>-122.186243032</td>\n",
       "      <td>37.736909007</td>\n",
       "    </tr>\n",
       "    <tr>\n",
       "      <th>1</th>\n",
       "      <td>ROBBERY</td>\n",
       "      <td>06X</td>\n",
       "      <td>2420 SAN PABLO AV</td>\n",
       "      <td>POINT (-122.274354017 37.81511099)</td>\n",
       "      <td>5</td>\n",
       "      <td>10</td>\n",
       "      <td>2022</td>\n",
       "      <td>3</td>\n",
       "      <td>2</td>\n",
       "      <td>Wednesday</td>\n",
       "      <td>-122.274354017</td>\n",
       "      <td>37.81511099</td>\n",
       "    </tr>\n",
       "    <tr>\n",
       "      <th>2</th>\n",
       "      <td>STOLEN VEHICLE</td>\n",
       "      <td>16Y</td>\n",
       "      <td>1123 EL CENTRO AV</td>\n",
       "      <td>POINT (-122.219454982 37.810370982)</td>\n",
       "      <td>27</td>\n",
       "      <td>11</td>\n",
       "      <td>2013</td>\n",
       "      <td>11</td>\n",
       "      <td>2</td>\n",
       "      <td>Wednesday</td>\n",
       "      <td>-122.219454982</td>\n",
       "      <td>37.810370982</td>\n",
       "    </tr>\n",
       "    <tr>\n",
       "      <th>3</th>\n",
       "      <td>OTHER</td>\n",
       "      <td>32Y</td>\n",
       "      <td>2374 108TH AV</td>\n",
       "      <td>POINT (-122.153223028 37.740880981)</td>\n",
       "      <td>19</td>\n",
       "      <td>12</td>\n",
       "      <td>2013</td>\n",
       "      <td>23</td>\n",
       "      <td>3</td>\n",
       "      <td>Thursday</td>\n",
       "      <td>-122.153223028</td>\n",
       "      <td>37.740880981</td>\n",
       "    </tr>\n",
       "    <tr>\n",
       "      <th>4</th>\n",
       "      <td>STOLEN VEHICLE</td>\n",
       "      <td>07X</td>\n",
       "      <td>3129 SAN PABLO AV</td>\n",
       "      <td>POINT (-122.277448029 37.822463008)</td>\n",
       "      <td>28</td>\n",
       "      <td>1</td>\n",
       "      <td>2014</td>\n",
       "      <td>11</td>\n",
       "      <td>1</td>\n",
       "      <td>Tuesday</td>\n",
       "      <td>-122.277448029</td>\n",
       "      <td>37.822463008</td>\n",
       "    </tr>\n",
       "  </tbody>\n",
       "</table>\n",
       "</div>"
      ],
      "text/plain": [
       "        CrimeType PoliceBeat            Address  \\\n",
       "0   TOWED VEHICLE        31Y     9609 MADDUX DR   \n",
       "1         ROBBERY        06X  2420 SAN PABLO AV   \n",
       "2  STOLEN VEHICLE        16Y  1123 EL CENTRO AV   \n",
       "3           OTHER        32Y      2374 108TH AV   \n",
       "4  STOLEN VEHICLE        07X  3129 SAN PABLO AV   \n",
       "\n",
       "                              Location  Day  Month  Year  Hour  DayOfWeek  \\\n",
       "0  POINT (-122.186243032 37.736909007)   30      9  2022    23          4   \n",
       "1   POINT (-122.274354017 37.81511099)    5     10  2022     3          2   \n",
       "2  POINT (-122.219454982 37.810370982)   27     11  2013    11          2   \n",
       "3  POINT (-122.153223028 37.740880981)   19     12  2013    23          3   \n",
       "4  POINT (-122.277448029 37.822463008)   28      1  2014    11          1   \n",
       "\n",
       "  DayOfWeekName               X             Y  \n",
       "0        Friday  -122.186243032  37.736909007  \n",
       "1     Wednesday  -122.274354017   37.81511099  \n",
       "2     Wednesday  -122.219454982  37.810370982  \n",
       "3      Thursday  -122.153223028  37.740880981  \n",
       "4       Tuesday  -122.277448029  37.822463008  "
      ]
     },
     "execution_count": 58,
     "metadata": {},
     "output_type": "execute_result"
    }
   ],
   "source": [
    "df.head(5)"
   ]
  },
  {
   "cell_type": "code",
   "execution_count": 59,
   "id": "16fe36d1-abfd-43a8-bc9e-5e3523ea2573",
   "metadata": {},
   "outputs": [],
   "source": [
    "### Convert from String to FLoat\n",
    "df['X'] = df['X'].astype(float)\n",
    "df['Y'] = df['Y'].astype(float)"
   ]
  },
  {
   "cell_type": "code",
   "execution_count": 60,
   "id": "b9f6f10c-7888-420a-898f-d908d2055f22",
   "metadata": {},
   "outputs": [
    {
     "name": "stdout",
     "output_type": "stream",
     "text": [
      "<class 'pandas.core.frame.DataFrame'>\n",
      "RangeIndex: 152727 entries, 0 to 152726\n",
      "Data columns (total 11 columns):\n",
      " #   Column         Non-Null Count   Dtype  \n",
      "---  ------         --------------   -----  \n",
      " 0   CrimeType      149889 non-null  object \n",
      " 1   PoliceBeat     152196 non-null  object \n",
      " 2   Address        152677 non-null  object \n",
      " 3   Day            152727 non-null  int32  \n",
      " 4   Month          152727 non-null  int32  \n",
      " 5   Year           152727 non-null  int32  \n",
      " 6   Hour           152727 non-null  int32  \n",
      " 7   DayOfWeek      152727 non-null  int32  \n",
      " 8   DayOfWeekName  152727 non-null  object \n",
      " 9   X              152726 non-null  float64\n",
      " 10  Y              152726 non-null  float64\n",
      "dtypes: float64(2), int32(5), object(4)\n",
      "memory usage: 9.9+ MB\n"
     ]
    }
   ],
   "source": [
    "### Remove Location column\n",
    "df.drop('Location', axis = 1, inplace= True)\n",
    "df.info()"
   ]
  },
  {
   "cell_type": "code",
   "execution_count": 61,
   "id": "1dc4307d-b03d-4e16-8d46-7fd6d9d76d80",
   "metadata": {},
   "outputs": [
    {
     "name": "stderr",
     "output_type": "stream",
     "text": [
      "C:\\Windows\\Temp\\ipykernel_21980\\1749381059.py:1: FutureWarning: A value is trying to be set on a copy of a DataFrame or Series through chained assignment using an inplace method.\n",
      "The behavior will change in pandas 3.0. This inplace method will never work because the intermediate object on which we are setting values always behaves as a copy.\n",
      "\n",
      "For example, when doing 'df[col].method(value, inplace=True)', try using 'df.method({col: value}, inplace=True)' or df[col] = df[col].method(value) instead, to perform the operation inplace on the original object.\n",
      "\n",
      "\n",
      "  df['CrimeType'].replace(['STOLEN' ,'STOLEN VEH', 'AUTO THEFT', 'AUTO HTEFT', 'BURG - AUTO' ,'CARJACKING', 'STOLEN VEHICLE' ], 'STOLEN VEHICLE', inplace= True);\n"
     ]
    }
   ],
   "source": [
    "df['CrimeType'].replace(['STOLEN' ,'STOLEN VEH', 'AUTO THEFT', 'AUTO HTEFT', 'BURG - AUTO' ,'CARJACKING', 'STOLEN VEHICLE' ], 'STOLEN VEHICLE', inplace= True);"
   ]
  },
  {
   "cell_type": "code",
   "execution_count": 62,
   "id": "ae29a9da-7c66-4f40-9607-ef9b562380f8",
   "metadata": {},
   "outputs": [],
   "source": [
    "df['CrimeType'].replace(['RECOVERED O/S STOLEN', 'STOLEN AND RECOVERED VEHICLE','STOLEN  AND RECOVERED VEHICLE', 'RECOVERED VEHICLE - OAKLAND STOLEN', 'RECOVERED VEHICLE-OLD SYSTEM STOLEN', 'STOLEN/RECOVERED VEHICLE' ,'STOLEN/RECOVERED' ], 'STOLEN/RECOVERED', inplace= True);"
   ]
  },
  {
   "cell_type": "code",
   "execution_count": 63,
   "id": "99261018-2cbe-44d7-8087-74e00ccfee80",
   "metadata": {},
   "outputs": [],
   "source": [
    "def replace_values(x):\n",
    "    if x == 'STOLEN VEHICLE' or x == 'STOLEN/RECOVERED':\n",
    "        return x\n",
    "    else:\n",
    "        return 'OTHER'"
   ]
  },
  {
   "cell_type": "code",
   "execution_count": 64,
   "id": "98d1da9c-48f5-4643-a7d8-85c4bcea969b",
   "metadata": {},
   "outputs": [],
   "source": [
    "df['CrimeType'] = df['CrimeType'].apply(replace_values)"
   ]
  },
  {
   "cell_type": "code",
   "execution_count": 65,
   "id": "64f61c63-1583-4ad7-aab9-e662f73a5a48",
   "metadata": {},
   "outputs": [
    {
     "data": {
      "text/plain": [
       "CrimeType\n",
       "STOLEN VEHICLE      114728\n",
       "STOLEN/RECOVERED     30486\n",
       "OTHER                 7513\n",
       "Name: count, dtype: int64"
      ]
     },
     "execution_count": 65,
     "metadata": {},
     "output_type": "execute_result"
    }
   ],
   "source": [
    "df['CrimeType'].value_counts()"
   ]
  },
  {
   "cell_type": "code",
   "execution_count": 76,
   "id": "71b3a8fa-8e7a-4483-9b53-b79c41c3f199",
   "metadata": {},
   "outputs": [
    {
     "data": {
      "text/plain": [
       "<Axes: xlabel='CrimeType', ylabel='count'>"
      ]
     },
     "execution_count": 76,
     "metadata": {},
     "output_type": "execute_result"
    },
    {
     "data": {
      "image/png": "[encoded data removed]",
      "text/plain": [
       "<Figure size 640x480 with 1 Axes>"
      ]
     },
     "metadata": {},
     "output_type": "display_data"
    }
   ],
   "source": [
    "sns.barplot(df[\"CrimeType\"].value_counts())"
   ]
  },
  {
   "cell_type": "code",
   "execution_count": 66,
   "id": "8ab31c45-15cd-4d38-989c-3c2723e2152e",
   "metadata": {},
   "outputs": [],
   "source": [
    "### Add Delimiter for Address\n",
    "df[\"Address\"]= df[\"Address\"].str.replace(\" \", \", \" ,1)\n",
    "df[\"Address\"]= df[\"Address\"].str[::-1]\n",
    "df[\"Address\"]= df[\"Address\"].str.replace(\" \", \", \" ,1)\n",
    "df[\"Address\"]= df[\"Address\"].str[::-1]"
   ]
  },
  {
   "cell_type": "code",
   "execution_count": 67,
   "id": "d98727f1-1e6a-43b4-8f9b-cb8daf94809b",
   "metadata": {},
   "outputs": [],
   "source": [
    "### Add AddressNum,  AddressName and StreetType\n",
    "address_split = df[\"Address\"].str.split(',', expand= True)\n",
    "df[\"AddressNum\"] = address_split[0]\n",
    "df[\"AddressName\"] = address_split[1]\n",
    "df[\"StreetType\"] = address_split[2]"
   ]
  },
  {
   "cell_type": "code",
   "execution_count": 68,
   "id": "9baf328d-7d27-4f1a-9130-56881a145bf4",
   "metadata": {},
   "outputs": [
    {
     "data": {
      "text/plain": [
       "<Axes: xlabel='DayOfWeekName', ylabel='count'>"
      ]
     },
     "execution_count": 68,
     "metadata": {},
     "output_type": "execute_result"
    },
    {
     "data": {
      "image/png": "[encoded data removed]",
      "text/plain": [
       "<Figure size 640x480 with 1 Axes>"
      ]
     },
     "metadata": {},
     "output_type": "display_data"
    }
   ],
   "source": [
    "sns.barplot(df[\"DayOfWeekName\"].value_counts())"
   ]
  },
  {
   "cell_type": "code",
   "execution_count": 69,
   "id": "b0875daf-68dd-4729-a058-28f6c053b2da",
   "metadata": {},
   "outputs": [
    {
     "data": {
      "text/plain": [
       "<Axes: xlabel='Hour', ylabel='count'>"
      ]
     },
     "execution_count": 69,
     "metadata": {},
     "output_type": "execute_result"
    },
    {
     "data": {
      "image/png": "[encoded data removed]",
      "text/plain": [
       "<Figure size 640x480 with 1 Axes>"
      ]
     },
     "metadata": {},
     "output_type": "display_data"
    }
   ],
   "source": [
    "sns.barplot(df[\"Hour\"].value_counts())"
   ]
  },
  {
   "cell_type": "code",
   "execution_count": 70,
   "id": "641c0c82-5609-4d8c-a602-6328e89c99ef",
   "metadata": {},
   "outputs": [
    {
     "data": {
      "text/plain": [
       "(0.0, 24.5)"
      ]
     },
     "execution_count": 70,
     "metadata": {},
     "output_type": "execute_result"
    },
    {
     "data": {
      "image/png": "[encoded data removed]",
      "text/plain": [
       "<Figure size 640x480 with 1 Axes>"
      ]
     },
     "metadata": {},
     "output_type": "display_data"
    }
   ],
   "source": [
    "df['Year']= df[\"Year\"]%100\n",
    "fig, ax = plt.subplots()\n",
    "ax= sns.barplot(df[\"Year\"].value_counts(), ax=ax)\n",
    "ax.set_xlim(0,24.5)"
   ]
  },
  {
   "cell_type": "code",
   "execution_count": 71,
   "id": "788aad0e-6f2d-4c5e-a66d-b832880f2925",
   "metadata": {},
   "outputs": [
    {
     "data": {
      "text/plain": [
       "<Axes: xlabel='Month', ylabel='count'>"
      ]
     },
     "execution_count": 71,
     "metadata": {},
     "output_type": "execute_result"
    },
    {
     "data": {
      "image/png": "[encoded data removed]",
      "text/plain": [
       "<Figure size 640x480 with 1 Axes>"
      ]
     },
     "metadata": {},
     "output_type": "display_data"
    }
   ],
   "source": [
    "sns.barplot(df[\"Month\"].value_counts())"
   ]
  },
  {
   "cell_type": "code",
   "execution_count": 72,
   "id": "63eaf7aa-155d-45ff-bca7-704a42f01d37",
   "metadata": {},
   "outputs": [
    {
     "data": {
      "text/plain": [
       "<Axes: xlabel='Day', ylabel='count'>"
      ]
     },
     "execution_count": 72,
     "metadata": {},
     "output_type": "execute_result"
    },
    {
     "data": {
      "image/png": "[encoded data removed]",
      "text/plain": [
       "<Figure size 640x480 with 1 Axes>"
      ]
     },
     "metadata": {},
     "output_type": "display_data"
    }
   ],
   "source": [
    "sns.barplot(df[\"Day\"].value_counts())"
   ]
  },
  {
   "cell_type": "code",
   "execution_count": 73,
   "id": "91090fc6-810d-44d1-a93d-a162f3427aa8",
   "metadata": {},
   "outputs": [
    {
     "name": "stdout",
     "output_type": "stream",
     "text": [
      "{'OTHER': 0, 'STOLEN VEHICLE': 1, 'STOLEN/RECOVERED': 2}\n"
     ]
    }
   ],
   "source": [
    "from sklearn import preprocessing \n",
    "le = preprocessing.LabelEncoder() \n",
    "  \n",
    "# Encode labels in column 'CrimeType'. \n",
    "df['Categorical']= le.fit_transform(df['CrimeType']) \n",
    "  \n",
    "df['Categorical'].unique() \n",
    "le_name_mapping = dict(zip(le.classes_, le.transform(le.classes_)))\n",
    "print(le_name_mapping)"
   ]
  },
  {
   "cell_type": "code",
   "execution_count": 75,
   "id": "ed79fe15-55b9-448e-8355-0b74d3039499",
   "metadata": {},
   "outputs": [
    {
     "data": {
      "text/html": [
       "<div>\n",
       "<style scoped>\n",
       "    .dataframe tbody tr th:only-of-type {\n",
       "        vertical-align: middle;\n",
       "    }\n",
       "\n",
       "    .dataframe tbody tr th {\n",
       "        vertical-align: top;\n",
       "    }\n",
       "\n",
       "    .dataframe thead th {\n",
       "        text-align: right;\n",
       "    }\n",
       "</style>\n",
       "<table border=\"1\" class=\"dataframe\">\n",
       "  <thead>\n",
       "    <tr style=\"text-align: right;\">\n",
       "      <th></th>\n",
       "      <th>CrimeType</th>\n",
       "      <th>PoliceBeat</th>\n",
       "      <th>Address</th>\n",
       "      <th>Day</th>\n",
       "      <th>Month</th>\n",
       "      <th>Year</th>\n",
       "      <th>Hour</th>\n",
       "      <th>DayOfWeek</th>\n",
       "      <th>DayOfWeekName</th>\n",
       "      <th>X</th>\n",
       "      <th>Y</th>\n",
       "      <th>AddressNum</th>\n",
       "      <th>AddressName</th>\n",
       "      <th>StreetType</th>\n",
       "      <th>Categorical</th>\n",
       "    </tr>\n",
       "  </thead>\n",
       "  <tbody>\n",
       "    <tr>\n",
       "      <th>0</th>\n",
       "      <td>OTHER</td>\n",
       "      <td>31Y</td>\n",
       "      <td>9609, MADDUX ,DR</td>\n",
       "      <td>30</td>\n",
       "      <td>9</td>\n",
       "      <td>22</td>\n",
       "      <td>23</td>\n",
       "      <td>4</td>\n",
       "      <td>Friday</td>\n",
       "      <td>-122.186243</td>\n",
       "      <td>37.736909</td>\n",
       "      <td>9609</td>\n",
       "      <td>MADDUX</td>\n",
       "      <td>DR</td>\n",
       "      <td>0</td>\n",
       "    </tr>\n",
       "    <tr>\n",
       "      <th>1</th>\n",
       "      <td>OTHER</td>\n",
       "      <td>06X</td>\n",
       "      <td>2420, SAN PABLO ,AV</td>\n",
       "      <td>5</td>\n",
       "      <td>10</td>\n",
       "      <td>22</td>\n",
       "      <td>3</td>\n",
       "      <td>2</td>\n",
       "      <td>Wednesday</td>\n",
       "      <td>-122.274354</td>\n",
       "      <td>37.815111</td>\n",
       "      <td>2420</td>\n",
       "      <td>SAN PABLO</td>\n",
       "      <td>AV</td>\n",
       "      <td>0</td>\n",
       "    </tr>\n",
       "    <tr>\n",
       "      <th>2</th>\n",
       "      <td>STOLEN VEHICLE</td>\n",
       "      <td>16Y</td>\n",
       "      <td>1123, EL CENTRO ,AV</td>\n",
       "      <td>27</td>\n",
       "      <td>11</td>\n",
       "      <td>13</td>\n",
       "      <td>11</td>\n",
       "      <td>2</td>\n",
       "      <td>Wednesday</td>\n",
       "      <td>-122.219455</td>\n",
       "      <td>37.810371</td>\n",
       "      <td>1123</td>\n",
       "      <td>EL CENTRO</td>\n",
       "      <td>AV</td>\n",
       "      <td>1</td>\n",
       "    </tr>\n",
       "    <tr>\n",
       "      <th>3</th>\n",
       "      <td>OTHER</td>\n",
       "      <td>32Y</td>\n",
       "      <td>2374, 108TH ,AV</td>\n",
       "      <td>19</td>\n",
       "      <td>12</td>\n",
       "      <td>13</td>\n",
       "      <td>23</td>\n",
       "      <td>3</td>\n",
       "      <td>Thursday</td>\n",
       "      <td>-122.153223</td>\n",
       "      <td>37.740881</td>\n",
       "      <td>2374</td>\n",
       "      <td>108TH</td>\n",
       "      <td>AV</td>\n",
       "      <td>0</td>\n",
       "    </tr>\n",
       "    <tr>\n",
       "      <th>4</th>\n",
       "      <td>STOLEN VEHICLE</td>\n",
       "      <td>07X</td>\n",
       "      <td>3129, SAN PABLO ,AV</td>\n",
       "      <td>28</td>\n",
       "      <td>1</td>\n",
       "      <td>14</td>\n",
       "      <td>11</td>\n",
       "      <td>1</td>\n",
       "      <td>Tuesday</td>\n",
       "      <td>-122.277448</td>\n",
       "      <td>37.822463</td>\n",
       "      <td>3129</td>\n",
       "      <td>SAN PABLO</td>\n",
       "      <td>AV</td>\n",
       "      <td>1</td>\n",
       "    </tr>\n",
       "  </tbody>\n",
       "</table>\n",
       "</div>"
      ],
      "text/plain": [
       "        CrimeType PoliceBeat              Address  Day  Month  Year  Hour  \\\n",
       "0           OTHER        31Y     9609, MADDUX ,DR   30      9    22    23   \n",
       "1           OTHER        06X  2420, SAN PABLO ,AV    5     10    22     3   \n",
       "2  STOLEN VEHICLE        16Y  1123, EL CENTRO ,AV   27     11    13    11   \n",
       "3           OTHER        32Y      2374, 108TH ,AV   19     12    13    23   \n",
       "4  STOLEN VEHICLE        07X  3129, SAN PABLO ,AV   28      1    14    11   \n",
       "\n",
       "   DayOfWeek DayOfWeekName           X          Y AddressNum  AddressName  \\\n",
       "0          4        Friday -122.186243  37.736909       9609      MADDUX    \n",
       "1          2     Wednesday -122.274354  37.815111       2420   SAN PABLO    \n",
       "2          2     Wednesday -122.219455  37.810371       1123   EL CENTRO    \n",
       "3          3      Thursday -122.153223  37.740881       2374       108TH    \n",
       "4          1       Tuesday -122.277448  37.822463       3129   SAN PABLO    \n",
       "\n",
       "  StreetType  Categorical  \n",
       "0         DR            0  \n",
       "1         AV            0  \n",
       "2         AV            1  \n",
       "3         AV            0  \n",
       "4         AV            1  "
      ]
     },
     "execution_count": 75,
     "metadata": {},
     "output_type": "execute_result"
    }
   ],
   "source": [
    "df.head(5)"
   ]
  },
  {
   "cell_type": "code",
   "execution_count": 84,
   "id": "1bc0d86b-0671-488e-b7b7-58fd1ad689b4",
   "metadata": {},
   "outputs": [
    {
     "data": {
      "text/plain": [
       "StreetType\n",
       "AV        59106\n",
       "ST        57867\n",
       "BLVD      11547\n",
       "DR         4648\n",
       "WY         3829\n",
       "          ...  \n",
       "LUSK          1\n",
       "(J-4)         1\n",
       "MALL          1\n",
       "(PLOT)        1\n",
       "AVED          1\n",
       "Name: count, Length: 882, dtype: int64"
      ]
     },
     "execution_count": 84,
     "metadata": {},
     "output_type": "execute_result"
    }
   ],
   "source": [
    "df['StreetType'].value_counts()"
   ]
  },
  {
   "cell_type": "code",
   "execution_count": 86,
   "id": "539d9042-9d53-4b7b-bb0d-b180624d2ca3",
   "metadata": {},
   "outputs": [],
   "source": [
    "def replace_street_type(x):\n",
    "    if x == 'AV' or x == 'ST' or x == 'BLVD' or x == 'DR' or x == 'WY':\n",
    "        return x\n",
    "    else:\n",
    "        return 'OTHER'"
   ]
  },
  {
   "cell_type": "code",
   "execution_count": 87,
   "id": "52815729-40d7-4de5-bcfe-d1404158cbe6",
   "metadata": {},
   "outputs": [],
   "source": [
    "df['StreetType'] = df['StreetType'].apply(replace_street_type)"
   ]
  },
  {
   "cell_type": "code",
   "execution_count": 88,
   "id": "83222954-4544-49da-8ec6-3166ea7e46a0",
   "metadata": {},
   "outputs": [
    {
     "data": {
      "text/plain": [
       "StreetType\n",
       "OTHER    152727\n",
       "Name: count, dtype: int64"
      ]
     },
     "execution_count": 88,
     "metadata": {},
     "output_type": "execute_result"
    }
   ],
   "source": [
    "df['StreetType'].value_counts()"
   ]
  },
  {
   "cell_type": "code",
   "execution_count": null,
   "id": "a538cfaa-e3bf-4c6f-afd6-a2365d8e6a82",
   "metadata": {},
   "outputs": [],
   "source": []
  }
 ],
 "metadata": {
  "kernelspec": {
   "display_name": "Python 3 (ipykernel)",
   "language": "python",
   "name": "python3"
  },
  "language_info": {
   "codemirror_mode": {
    "name": "ipython",
    "version": 3
   },
   "file_extension": ".py",
   "mimetype": "text/x-python",
   "name": "python",
   "nbconvert_exporter": "python",
   "pygments_lexer": "ipython3",
   "version": "3.12.2"
  }
 },
 "nbformat": 4,
 "nbformat_minor": 5
}
